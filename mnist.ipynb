{
  "nbformat": 4,
  "nbformat_minor": 0,
  "metadata": {
    "accelerator": "GPU",
    "colab": {
      "name": "mnist.ipynb",
      "provenance": [],
      "collapsed_sections": []
    },
    "kernelspec": {
      "display_name": "Python 3",
      "name": "python3"
    }
  },
  "cells": [
    {
      "cell_type": "code",
      "metadata": {
        "id": "7xSVj_gxcVQk"
      },
      "source": [
        "import tensorflow as tf\r\n",
        "import numpy as np\r\n",
        "import pandas as pd\r\n",
        "from tensorflow.keras.datasets import mnist\r\n",
        "from sklearn.preprocessing import StandardScaler\r\n",
        "from tensorflow.keras.layers import Conv2D , MaxPool2D , Flatten , Dense , Dropout\r\n",
        "from tensorflow.keras.models import Sequential\r\n",
        "from tensorflow.keras.utils import to_categorical\r\n",
        "\r\n",
        "import matplotlib.pyplot as plt"
      ],
      "execution_count": 1,
      "outputs": []
    },
    {
      "cell_type": "code",
      "metadata": {
        "id": "9ucWfSaBdVoL"
      },
      "source": [
        "#loading the dataset\r\n",
        "\r\n",
        "(X_train, Y_train), (X_test , Y_test) =mnist.load_data()"
      ],
      "execution_count": 2,
      "outputs": []
    },
    {
      "cell_type": "code",
      "metadata": {
        "colab": {
          "base_uri": "https://localhost:8080/"
        },
        "id": "9QRJAi8edpNO",
        "outputId": "77f61119-9e36-496c-b6f4-b305b260b967"
      },
      "source": [
        "X_train.shape"
      ],
      "execution_count": 3,
      "outputs": [
        {
          "output_type": "execute_result",
          "data": {
            "text/plain": [
              "(60000, 28, 28)"
            ]
          },
          "metadata": {
            "tags": []
          },
          "execution_count": 3
        }
      ]
    },
    {
      "cell_type": "code",
      "metadata": {
        "id": "wZXcpocvPy9E"
      },
      "source": [
        ""
      ],
      "execution_count": 3,
      "outputs": []
    },
    {
      "cell_type": "code",
      "metadata": {
        "id": "xVR-XUxYdss2"
      },
      "source": [
        "#naming all the class\r\n",
        "\r\n",
        "classes = ['zero','one','two','three','four','five','six','seven','eight','nine']"
      ],
      "execution_count": 4,
      "outputs": []
    },
    {
      "cell_type": "code",
      "metadata": {
        "colab": {
          "base_uri": "https://localhost:8080/",
          "height": 36
        },
        "id": "jhKbiQtuePQP",
        "outputId": "c36d70b5-4a70-486f-ff14-768d7a20ab23"
      },
      "source": [
        "classes[Y_train[6]]"
      ],
      "execution_count": 5,
      "outputs": [
        {
          "output_type": "execute_result",
          "data": {
            "application/vnd.google.colaboratory.intrinsic+json": {
              "type": "string"
            },
            "text/plain": [
              "'one'"
            ]
          },
          "metadata": {
            "tags": []
          },
          "execution_count": 5
        }
      ]
    },
    {
      "cell_type": "code",
      "metadata": {
        "colab": {
          "base_uri": "https://localhost:8080/",
          "height": 283
        },
        "id": "4Q53mq6oeURd",
        "outputId": "ebec2c03-7bd7-417a-a0b3-b24bafd9465c"
      },
      "source": [
        "#visualising the data\r\n",
        "\r\n",
        "plt.imshow(X_train[6])\r\n",
        "#np.argmax(Y_train[4])"
      ],
      "execution_count": 6,
      "outputs": [
        {
          "output_type": "execute_result",
          "data": {
            "text/plain": [
              "<matplotlib.image.AxesImage at 0x7fe6fff10be0>"
            ]
          },
          "metadata": {
            "tags": []
          },
          "execution_count": 6
        },
        {
          "output_type": "display_data",
          "data": {
            "image/png": "[encoded data removed]",
            "text/plain": [
              "<Figure size 432x288 with 1 Axes>"
            ]
          },
          "metadata": {
            "tags": [],
            "needs_background": "light"
          }
        }
      ]
    },
    {
      "cell_type": "code",
      "metadata": {
        "id": "ujIYJBSRemqd"
      },
      "source": [
        "#normalising the data\r\n",
        "\r\n",
        "X_train, X_test = X_train / 255.0 , X_test / 255.0\r\n",
        "\r\n",
        "#converting to categorical data\r\n",
        "\r\n",
        "Y_train , Y_test = to_categorical(Y_train) , to_categorical(Y_test)"
      ],
      "execution_count": 7,
      "outputs": []
    },
    {
      "cell_type": "code",
      "metadata": {
        "id": "yvdp2xE7llHf"
      },
      "source": [
        "X_train =X_train.reshape(60000, 28, 28,1)"
      ],
      "execution_count": 8,
      "outputs": []
    },
    {
      "cell_type": "code",
      "metadata": {
        "id": "W8WGV4H2mbGT"
      },
      "source": [
        "model = Sequential()\r\n",
        "\r\n",
        "#conv1\r\n",
        "model.add(Conv2D(32 , (3,3) , activation= 'relu', kernel_initializer='he_uniform' ))\r\n",
        "model.add(MaxPool2D((2,2)))\r\n",
        "\r\n",
        "#conv2\r\n",
        "model.add(Conv2D(64 , (3,3) , activation= 'relu', kernel_initializer='he_uniform' ))\r\n",
        "model.add(MaxPool2D((2,2)))\r\n",
        "\r\n",
        "#conv3\r\n",
        "model.add(Conv2D(128 , (3,3) , activation= 'relu', kernel_initializer='he_uniform' ))\r\n",
        "model.add(MaxPool2D((2,2)))\r\n",
        "\r\n",
        "model.add(Flatten())\r\n",
        "\r\n",
        "#Drafting ANN Model\r\n",
        "model.add(Dense(200 , activation= 'relu'))\r\n",
        "model.add(Dropout(0.2))\r\n",
        "\r\n",
        "model.add(Dense(100 , activation= 'tanh'))\r\n",
        "model.add(Dropout(0.2))\r\n",
        "\r\n",
        "model.add(Dense(50 , activation= 'relu'))\r\n",
        "model.add(Dropout(0.2))\r\n",
        "\r\n",
        "model.add(Dense(25 , activation= 'tanh'))\r\n",
        "model.add(Dropout(0.2))\r\n",
        "\r\n",
        "model.add(Dense(10 , activation = 'softmax'))\r\n"
      ],
      "execution_count": 9,
      "outputs": []
    },
    {
      "cell_type": "code",
      "metadata": {
        "colab": {
          "base_uri": "https://localhost:8080/"
        },
        "id": "volTmP_by5Nz",
        "outputId": "e879b13d-eb5f-4d40-ddb8-49e15ae11741"
      },
      "source": [
        "model.compile(optimizer = 'adam' , loss = 'categorical_crossentropy' , metrics = ['accuracy'])\r\n",
        "model.fit(X_train , Y_train , epochs = 30 , batch_size = 30)"
      ],
      "execution_count": 10,
      "outputs": [
        {
          "output_type": "stream",
          "text": [
            "Epoch 1/30\n",
            "2000/2000 [==============================] - 9s 3ms/step - loss: 0.6929 - accuracy: 0.7820\n",
            "Epoch 2/30\n",
            "2000/2000 [==============================] - 6s 3ms/step - loss: 0.1339 - accuracy: 0.9682\n",
            "Epoch 3/30\n",
            "2000/2000 [==============================] - 6s 3ms/step - loss: 0.0927 - accuracy: 0.9790\n",
            "Epoch 4/30\n",
            "2000/2000 [==============================] - 6s 3ms/step - loss: 0.0794 - accuracy: 0.9805\n",
            "Epoch 5/30\n",
            "2000/2000 [==============================] - 6s 3ms/step - loss: 0.0649 - accuracy: 0.9844\n",
            "Epoch 6/30\n",
            "2000/2000 [==============================] - 6s 3ms/step - loss: 0.0625 - accuracy: 0.9857\n",
            "Epoch 7/30\n",
            "2000/2000 [==============================] - 6s 3ms/step - loss: 0.0546 - accuracy: 0.9876\n",
            "Epoch 8/30\n",
            "2000/2000 [==============================] - 6s 3ms/step - loss: 0.0459 - accuracy: 0.9892\n",
            "Epoch 9/30\n",
            "2000/2000 [==============================] - 6s 3ms/step - loss: 0.0497 - accuracy: 0.9890\n",
            "Epoch 10/30\n",
            "2000/2000 [==============================] - 6s 3ms/step - loss: 0.0426 - accuracy: 0.9901\n",
            "Epoch 11/30\n",
            "2000/2000 [==============================] - 6s 3ms/step - loss: 0.0364 - accuracy: 0.9921\n",
            "Epoch 12/30\n",
            "2000/2000 [==============================] - 6s 3ms/step - loss: 0.0383 - accuracy: 0.9926\n",
            "Epoch 13/30\n",
            "2000/2000 [==============================] - 6s 3ms/step - loss: 0.0335 - accuracy: 0.9932\n",
            "Epoch 14/30\n",
            "2000/2000 [==============================] - 6s 3ms/step - loss: 0.0329 - accuracy: 0.9931\n",
            "Epoch 15/30\n",
            "2000/2000 [==============================] - 6s 3ms/step - loss: 0.0328 - accuracy: 0.9931\n",
            "Epoch 16/30\n",
            "2000/2000 [==============================] - 6s 3ms/step - loss: 0.0324 - accuracy: 0.9935\n",
            "Epoch 17/30\n",
            "2000/2000 [==============================] - 6s 3ms/step - loss: 0.0302 - accuracy: 0.9939\n",
            "Epoch 18/30\n",
            "2000/2000 [==============================] - 6s 3ms/step - loss: 0.0298 - accuracy: 0.9938\n",
            "Epoch 19/30\n",
            "2000/2000 [==============================] - 6s 3ms/step - loss: 0.0313 - accuracy: 0.9931\n",
            "Epoch 20/30\n",
            "2000/2000 [==============================] - 6s 3ms/step - loss: 0.0309 - accuracy: 0.9933\n",
            "Epoch 21/30\n",
            "2000/2000 [==============================] - 6s 3ms/step - loss: 0.0286 - accuracy: 0.9940\n",
            "Epoch 22/30\n",
            "2000/2000 [==============================] - 6s 3ms/step - loss: 0.0258 - accuracy: 0.9947\n",
            "Epoch 23/30\n",
            "2000/2000 [==============================] - 6s 3ms/step - loss: 0.0221 - accuracy: 0.9953\n",
            "Epoch 24/30\n",
            "2000/2000 [==============================] - 6s 3ms/step - loss: 0.0266 - accuracy: 0.9938\n",
            "Epoch 25/30\n",
            "2000/2000 [==============================] - 6s 3ms/step - loss: 0.0224 - accuracy: 0.9960\n",
            "Epoch 26/30\n",
            "2000/2000 [==============================] - 6s 3ms/step - loss: 0.0262 - accuracy: 0.9944\n",
            "Epoch 27/30\n",
            "2000/2000 [==============================] - 6s 3ms/step - loss: 0.0264 - accuracy: 0.9943\n",
            "Epoch 28/30\n",
            "2000/2000 [==============================] - 6s 3ms/step - loss: 0.0264 - accuracy: 0.9945\n",
            "Epoch 29/30\n",
            "2000/2000 [==============================] - 6s 3ms/step - loss: 0.0301 - accuracy: 0.9939\n",
            "Epoch 30/30\n",
            "2000/2000 [==============================] - 6s 3ms/step - loss: 0.0242 - accuracy: 0.9945\n"
          ],
          "name": "stdout"
        },
        {
          "output_type": "execute_result",
          "data": {
            "text/plain": [
              "<tensorflow.python.keras.callbacks.History at 0x7fe6f0159828>"
            ]
          },
          "metadata": {
            "tags": []
          },
          "execution_count": 10
        }
      ]
    },
    {
      "cell_type": "code",
      "metadata": {
        "colab": {
          "base_uri": "https://localhost:8080/"
        },
        "id": "CEgPzgIbRlWj",
        "outputId": "2a0676a5-e5fb-43d5-e510-682d65b2a3ae"
      },
      "source": [
        "Y_train.shape"
      ],
      "execution_count": 13,
      "outputs": [
        {
          "output_type": "execute_result",
          "data": {
            "text/plain": [
              "(60000, 10)"
            ]
          },
          "metadata": {
            "tags": []
          },
          "execution_count": 13
        }
      ]
    },
    {
      "cell_type": "code",
      "metadata": {
        "id": "KyFYd5pdPosO"
      },
      "source": [
        "Y_train =Y_train.reshape(60000, 10,1)"
      ],
      "execution_count": 15,
      "outputs": []
    },
    {
      "cell_type": "code",
      "metadata": {
        "colab": {
          "base_uri": "https://localhost:8080/"
        },
        "id": "SPEYdtEhRw53",
        "outputId": "56d664aa-2ad6-4763-c199-4fccd39faa17"
      },
      "source": [
        "X_test.shape"
      ],
      "execution_count": 16,
      "outputs": [
        {
          "output_type": "execute_result",
          "data": {
            "text/plain": [
              "(10000, 28, 28)"
            ]
          },
          "metadata": {
            "tags": []
          },
          "execution_count": 16
        }
      ]
    },
    {
      "cell_type": "code",
      "metadata": {
        "id": "SIPJu-wwRwTO"
      },
      "source": [
        ""
      ],
      "execution_count": null,
      "outputs": []
    },
    {
      "cell_type": "code",
      "metadata": {
        "id": "Dwn0u52bRz5X"
      },
      "source": [
        "X_test =X_test.reshape(10000, 28, 28,1)\r\n"
      ],
      "execution_count": 17,
      "outputs": []
    },
    {
      "cell_type": "code",
      "metadata": {
        "id": "QwvgdVzPz0ka",
        "colab": {
          "base_uri": "https://localhost:8080/"
        },
        "outputId": "b4351b91-3d3a-4372-dff8-34994d2026f8"
      },
      "source": [
        "#Model Evaluation\r\n",
        "\r\n",
        "model.evaluate(X_test, Y_test)"
      ],
      "execution_count": 25,
      "outputs": [
        {
          "output_type": "stream",
          "text": [
            "313/313 [==============================] - 1s 2ms/step - loss: 0.0681 - accuracy: 0.9878\n"
          ],
          "name": "stdout"
        },
        {
          "output_type": "execute_result",
          "data": {
            "text/plain": [
              "[0.06809557229280472, 0.9878000020980835]"
            ]
          },
          "metadata": {
            "tags": []
          },
          "execution_count": 25
        }
      ]
    },
    {
      "cell_type": "code",
      "metadata": {
        "colab": {
          "base_uri": "https://localhost:8080/"
        },
        "id": "eO00OR-zR8Xb",
        "outputId": "062055c4-a538-4ced-9186-122a2ea4f8aa"
      },
      "source": [
        "Y_test.shape"
      ],
      "execution_count": 18,
      "outputs": [
        {
          "output_type": "execute_result",
          "data": {
            "text/plain": [
              "(10000, 10)"
            ]
          },
          "metadata": {
            "tags": []
          },
          "execution_count": 18
        }
      ]
    },
    {
      "cell_type": "code",
      "metadata": {
        "id": "6Wbjv7ATR8u2"
      },
      "source": [
        "Y_test = Y_test.reshape(10000, 10,1)"
      ],
      "execution_count": 23,
      "outputs": []
    },
    {
      "cell_type": "code",
      "metadata": {
        "colab": {
          "base_uri": "https://localhost:8080/"
        },
        "id": "ZWX3MWQe-2Af",
        "outputId": "ee516156-6911-4340-cf42-6a60f232f09b"
      },
      "source": [
        "#Model Prediction\r\n",
        "\r\n",
        "Y_pred = model.predict(X_test)\r\n",
        "Y_pred"
      ],
      "execution_count": 26,
      "outputs": [
        {
          "output_type": "execute_result",
          "data": {
            "text/plain": [
              "array([[8.05507716e-06, 1.57303046e-04, 2.87319504e-04, ...,\n",
              "        9.98867869e-01, 2.74289177e-05, 3.19504150e-04],\n",
              "       [4.30082473e-05, 3.85955318e-05, 9.99361694e-01, ...,\n",
              "        2.49549514e-04, 1.07275577e-04, 3.38566351e-05],\n",
              "       [5.27784687e-06, 9.99617100e-01, 9.66875596e-05, ...,\n",
              "        1.01321319e-04, 7.31190376e-05, 2.12846044e-06],\n",
              "       ...,\n",
              "       [8.72818055e-06, 9.30464921e-06, 2.45798456e-05, ...,\n",
              "        1.15882740e-05, 7.41422191e-05, 2.76608189e-04],\n",
              "       [1.37668594e-05, 1.27577523e-05, 5.80218375e-06, ...,\n",
              "        1.65559886e-05, 6.37108897e-05, 9.27051442e-05],\n",
              "       [7.59873801e-05, 1.09690818e-05, 1.46469720e-05, ...,\n",
              "        9.12581527e-06, 9.21434184e-06, 1.35701175e-05]], dtype=float32)"
            ]
          },
          "metadata": {
            "tags": []
          },
          "execution_count": 26
        }
      ]
    },
    {
      "cell_type": "code",
      "metadata": {
        "colab": {
          "base_uri": "https://localhost:8080/",
          "height": 36
        },
        "id": "3Re6vqie-9B5",
        "outputId": "62bce76e-f94a-4f83-b355-2f0c92089182"
      },
      "source": [
        "#predicted\r\n",
        "\r\n",
        "classes[np.argmax(Y_pred[90])]"
      ],
      "execution_count": 27,
      "outputs": [
        {
          "output_type": "execute_result",
          "data": {
            "application/vnd.google.colaboratory.intrinsic+json": {
              "type": "string"
            },
            "text/plain": [
              "'three'"
            ]
          },
          "metadata": {
            "tags": []
          },
          "execution_count": 27
        }
      ]
    },
    {
      "cell_type": "code",
      "metadata": {
        "id": "fzBS8bdT_c92"
      },
      "source": [
        "#visualising the prediction\r\n",
        "\r\n",
        "#plt.imshow(X_test[90])"
      ],
      "execution_count": 30,
      "outputs": []
    },
    {
      "cell_type": "code",
      "metadata": {
        "colab": {
          "base_uri": "https://localhost:8080/"
        },
        "id": "cbn9uQEQ_ikH",
        "outputId": "9aaffda7-66b5-4975-87e3-ca7dd09257f2"
      },
      "source": [
        "#saving the model\r\n",
        "\r\n",
        "model.save('CNN_Model_mnist')"
      ],
      "execution_count": 31,
      "outputs": [
        {
          "output_type": "stream",
          "text": [
            "INFO:tensorflow:Assets written to: CNN_Model_mnist/assets\n"
          ],
          "name": "stdout"
        }
      ]
    },
    {
      "cell_type": "code",
      "metadata": {
        "id": "rhiXevULCIux"
      },
      "source": [
        ""
      ],
      "execution_count": null,
      "outputs": []
    }
  ]
}